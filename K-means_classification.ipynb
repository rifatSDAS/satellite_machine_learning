{
 "cells": [
  {
   "cell_type": "code",
   "execution_count": null,
   "metadata": {},
   "outputs": [],
   "source": [
    "# Import all libraries\n",
    "import rasterio\n",
    "from rasterio.plot import show\n",
    "import numpy as np\n",
    "import numpy.ma as ma\n",
    "import matplotlib.pyplot as plt\n",
    "from glob import glob\n",
    "import os\n",
    "import sys"
   ]
  },
  {
   "cell_type": "markdown",
   "metadata": {},
   "source": [
    "### This sample code is based on Scikit-learn K-means classification\n",
    "\n",
    "https://scikit-learn.org/stable/modules/clustering.html#k-means\n",
    "\n",
    "https://scikit-learn.org/stable/modules/generated/sklearn.cluster.KMeans.html#sklearn.cluster.KMeans\n",
    "\n",
    "#### This code has been tested with Landsat 8 OLI, Landsat 7 ETM+, Landsat 4 TM, and Sentinel 2 MSI data"
   ]
  },
  {
   "cell_type": "code",
   "execution_count": null,
   "metadata": {},
   "outputs": [],
   "source": [
    "### open and read input raster file\n",
    "ras = 'D:/your_input_directory/your_input_raster.tif'"
   ]
  },
  {
   "cell_type": "code",
   "execution_count": null,
   "metadata": {},
   "outputs": [],
   "source": [
    "### read opened raster as numpy array\n",
    "with rasterio.open(ras, 'r')  as src:\n",
    "    show(src1, cmap='viridis') # to visualize the raster\n",
    "    ras_arr = src.read(1)      # to read raster as numpy array\n",
    "### these steps are not mendatory\n",
    "### but can run to see the info of input raster\n",
    "    print(ras_arr.shape)       # to see the number of rows and columns\n",
    "    print(ras_arr)             # to print the array\n",
    "    print(np.min(ras_arr))     # to print minimum value of the array\n",
    "    print(np.max(ras_arr))     # to print maximum value of the array"
   ]
  },
  {
   "cell_type": "code",
   "execution_count": null,
   "metadata": {},
   "outputs": [],
   "source": [
    "### Step 1: flattening or reshape the 2D numpy array into 1D numpy array\n",
    "### with (-1,1) shape, which means we will have (rows, 1) shape, many rows and 1 column\n",
    "### for ML always we need flatten 2D numpy array into rows and 1 column\n",
    "ras_flat = ras_arr.reshape([-1, 1]) \n",
    "print(ras_flat.shape)\n",
    "print(ras_flat)\n",
    "print(np.min(ras_flat))\n",
    "print(np.max(ras_flat))\n",
    "### check if there are any Null, infinate, or unexpected\n",
    "### values in the data set\n",
    "print(np.any(np.isnan(ras_flat))) #Answer must be 'False'\n",
    "print(np.all(np.isfinite(ras_flat))) #Answer must be 'True'\n",
    "### if there are no error values then proceed Step 2\n",
    "### otherwise, proceeed Step 1.1"
   ]
  },
  {
   "cell_type": "code",
   "execution_count": null,
   "metadata": {},
   "outputs": [],
   "source": [
    "### Step 1.1: clean the data set\n",
    "### this will replace all error values \n",
    "\n",
    "ras_flat = np.nan_to_num(ras_flat, nan=0, posinf=0, neginf=0)\n",
    "print(ras_flat.shape)\n",
    "print(ras_flat)\n",
    "print(np.min(ras_flat))\n",
    "print(np.max(ras_flat))\n",
    "### check if there are any Null, infinate, or unexpected\n",
    "### values in the data set\n",
    "print(np.any(np.isnan(ras_flat))) #Answer must be 'False'\n",
    "print(np.all(np.isfinite(ras_flat))) #Answer must be 'True'"
   ]
  },
  {
   "cell_type": "code",
   "execution_count": null,
   "metadata": {},
   "outputs": [],
   "source": [
    "### Step 2: k-mean with SciKit learn\n",
    "from sklearn.cluster import KMeans\n",
    "ras_km = KMeans(n_clusters=6, random_state=0).fit(ras_flat) \n",
    "### Number of cluster is 6 for this test case, \n",
    "### but it can be any number, for more details look Scikit-learn website \n",
    "### clustering kmeans data (1D numpy array)\n",
    "ras_km_cluster = ras_km.labels_\n",
    "print(ras_km_cluster.shape)\n",
    "print(ras_km_cluster)\n",
    "print(np.min(ras_km_cluster))\n",
    "print(np.max(ras_km_cluster))\n",
    "### reshape kmneas 1D cluster data into 2D numpy array\n",
    "ras_km_data = ras_km_cluster.reshape(ras_arr.shape)\n",
    "### plot array\n",
    "plt.imshow(ras_km_data, cmap=\"Paired\") # you can use any cmap from matplotlib cmap list\n",
    "### plot colorbar\n",
    "plt.colorbar(shrink=0.5)\n",
    "plt.clim(np.min(ras_km_data), np.max(ras_km_data))\n",
    "print(ras_km_data.shape)\n",
    "print(ras_km_data)\n",
    "print(np.min(ras_km_data))\n",
    "print(np.max(ras_km_data))"
   ]
  },
  {
   "cell_type": "code",
   "execution_count": null,
   "metadata": {},
   "outputs": [],
   "source": [
    "### Step 3: save the output as jpg file\n",
    "### make the output file directory\n",
    "fig_direc = 'D:/your_output_directory/CI'\n",
    "if not os.path.exists(fig_direc):\n",
    "    os.makedirs(fig_direc)\n",
    "### Save the figure as jpg format\n",
    "plt.savefig('D:/your_output_directory/your_output_raster.jpg', dpi=600) # dpi can be changed according to \n",
    "# needs but 600 is high enough and such good resolution"
   ]
  },
  {
   "cell_type": "code",
   "execution_count": null,
   "metadata": {},
   "outputs": [],
   "source": [
    "### Step 4: save the output as GeoTiff file\n",
    "### Get metadata from input raster\n",
    "with rasterio.open(ras) as src:\n",
    "    meta = src.meta\n",
    "meta.update(dtype=rasterio.float32)\n",
    "### Create output folder and write output file in it as geotiff\n",
    "file = \"D:/your_output_directory/your_output_raster.tif\"\n",
    "os.makedirs(os.path.dirname(file), exist_ok=True)\n",
    "with rasterio.open(file, 'w', **meta) as dst:\n",
    "    dst.write(ras_km_data.astype(rasterio.float32), 1)"
   ]
  }
 ],
 "metadata": {
  "kernelspec": {
   "display_name": "Python 3",
   "language": "python",
   "name": "python3"
  },
  "language_info": {
   "codemirror_mode": {
    "name": "ipython",
    "version": 3
   },
   "file_extension": ".py",
   "mimetype": "text/x-python",
   "name": "python",
   "nbconvert_exporter": "python",
   "pygments_lexer": "ipython3",
   "version": "3.8.5"
  }
 },
 "nbformat": 4,
 "nbformat_minor": 4
}
